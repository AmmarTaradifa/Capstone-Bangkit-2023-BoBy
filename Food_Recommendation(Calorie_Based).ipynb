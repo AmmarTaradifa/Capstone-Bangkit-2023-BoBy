{
  "nbformat": 4,
  "nbformat_minor": 0,
  "metadata": {
    "colab": {
      "provenance": []
    },
    "kernelspec": {
      "name": "python3",
      "display_name": "Python 3"
    },
    "language_info": {
      "name": "python"
    }
  },
  "cells": [
    {
      "cell_type": "code",
      "source": [
        "import numpy as np\n",
        "import random"
      ],
      "metadata": {
        "id": "nXFgs2Mv0Yje"
      },
      "execution_count": null,
      "outputs": []
    },
    {
      "cell_type": "code",
      "source": [
        "# Load item vectors and food names from the dataset\n",
        "dataset = np.loadtxt('KaloriMakanan.csv', delimiter=',', skiprows=1, dtype=str)"
      ],
      "metadata": {
        "id": "i4TQRYjI1iSF"
      },
      "execution_count": null,
      "outputs": []
    },
    {
      "cell_type": "code",
      "source": [
        "# Extract item vectors and food names\n",
        "food_names = dataset[:, 0]\n",
        "calories = dataset[:, 2].astype(float)"
      ],
      "metadata": {
        "id": "sDJrvGf1N28D"
      },
      "execution_count": null,
      "outputs": []
    },
    {
      "cell_type": "code",
      "source": [
        "def recommend_items(daily_calorie_intake, food_names, calories):\n",
        "    # Calculate the differences between the calories and the daily calorie intake\n",
        "    differences = np.abs(calories - daily_calorie_intake)\n",
        "\n",
        "    # Sort the food names based on the differences in ascending order\n",
        "    sorted_indices = np.argsort(differences)\n",
        "    sorted_food_names = food_names[sorted_indices]\n",
        "    sorted_calories = calories[sorted_indices]\n",
        "\n",
        "    # Calculate the total calories in the dataset\n",
        "    total_calories = np.sum(calories)\n",
        "\n",
        "    # Determine the number of recommendations based on the total calories and daily calorie intake\n",
        "    min_recommendations = 5\n",
        "    max_recommendations = 10\n",
        "    num_recommendations = min(max_recommendations, max(min_recommendations, int(daily_calorie_intake / (total_calories / len(food_names)))))\n",
        "\n",
        "    # Randomly select a subset of unique recommendations\n",
        "    recommended_indices = random.sample(range(len(sorted_food_names)), num_recommendations)\n",
        "    recommended_foods = [(sorted_food_names[i], sorted_calories[i]) for i in recommended_indices]\n",
        "\n",
        "    return recommended_foods"
      ],
      "metadata": {
        "id": "jyzRpDdb4Nt2"
      },
      "execution_count": null,
      "outputs": []
    },
    {
      "cell_type": "code",
      "source": [
        "# Calculate BMR and daily calorie intake\n",
        "bmr = calculate_bmr(height, weight, age, gender)\n",
        "activity_factors = {'sedentary': 1.2, 'mild': 1.375, 'normal': 1.55, 'active': 1.725, 'energetic': 1.9}\n",
        "activity_level = activity_level.lower()"
      ],
      "metadata": {
        "id": "yXEkVrz3LWxq"
      },
      "execution_count": null,
      "outputs": []
    },
    {
      "cell_type": "code",
      "source": [
        "# Check for activity level variations\n",
        "if activity_level in activity_factors:\n",
        "    daily_calorie_intake = bmr * activity_factors[activity_level]\n",
        "else:\n",
        "    if activity_level == 's':\n",
        "        daily_calorie_intake = bmr * activity_factors['sedentary']\n",
        "    elif activity_level == 'm':\n",
        "        daily_calorie_intake = bmr * activity_factors['mild']\n",
        "    elif activity_level == 'n':\n",
        "        daily_calorie_intake = bmr * activity_factors['normal']\n",
        "    elif activity_level == 'a':\n",
        "        daily_calorie_intake = bmr * activity_factors['active']\n",
        "    elif activity_level == 'e':\n",
        "        daily_calorie_intake = bmr * activity_factors['energetic']\n",
        "    else:\n",
        "        print(\"Invalid activity level\")\n",
        "        exit()"
      ],
      "metadata": {
        "id": "kBAmxjx3H7aT"
      },
      "execution_count": null,
      "outputs": []
    },
    {
      "cell_type": "code",
      "source": [
        "# Calculate BMR (Basal Metabolic Rate)\n",
        "def calculate_bmr(height, weight, age, gender):\n",
        "    if gender.lower() == 'male':\n",
        "        bmr = 66.5 + (13.75 * weight) + (5.003 * height) - (6.75 * age)\n",
        "    elif gender.lower() == 'female':\n",
        "        bmr = 655.1 + (9.563 * weight) + (1.85 * height) - (4.676 * age)\n",
        "    else:\n",
        "        raise ValueError(\"Invalid gender specified. Please specify 'male' or 'female'.\")\n",
        "    return bmr"
      ],
      "metadata": {
        "id": "OTA9Ni5G0YyU"
      },
      "execution_count": null,
      "outputs": []
    },
    {
      "cell_type": "code",
      "source": [
        "# User input for personal information\n",
        "height = float(input(\"Enter your height in centimeters: \"))\n",
        "weight = float(input(\"Enter your weight in kilograms: \"))\n",
        "age = int(input(\"Enter your age in years: \"))\n",
        "gender = input(\"Enter your gender (male/female): \").lower()\n",
        "activity_level = input(\"Enter your activity level (Sedentary, Mild, Normal, Active, Energetic): \").lower()"
      ],
      "metadata": {
        "id": "-yBUXYZ80Yv3",
        "colab": {
          "base_uri": "https://localhost:8080/"
        },
        "outputId": "115fc4f2-d820-472c-f93b-1d56ee100e47"
      },
      "execution_count": null,
      "outputs": [
        {
          "name": "stdout",
          "output_type": "stream",
          "text": [
            "Enter your height in centimeters: 180\n",
            "Enter your weight in kilograms: 72\n",
            "Enter your age in years: 22\n",
            "Enter your gender (male/female): male\n",
            "Enter your activity level (Sedentary, Mild, Normal, Active, Energetic): mild\n"
          ]
        }
      ]
    },
    {
      "cell_type": "code",
      "source": [
        "print(\"Your BMR:\", bmr)\n",
        "print(\"Your Daily Calorie Intake:\", daily_calorie_intake)"
      ],
      "metadata": {
        "id": "rLl-vOt00Y3m",
        "colab": {
          "base_uri": "https://localhost:8080/"
        },
        "outputId": "0f3d7a7a-2864-47c8-8833-9b17ebeab6b6"
      },
      "execution_count": null,
      "outputs": [
        {
          "output_type": "stream",
          "name": "stdout",
          "text": [
            "Your BMR: 1909.7600000000002\n",
            "Your Daily Calorie Intake: 2625.92\n"
          ]
        }
      ]
    },
    {
      "cell_type": "code",
      "source": [
        "recommended_foods = recommend_items(daily_calorie_intake, food_names, calories)\n",
        "\n",
        "print(\"Recommended Foods:\")\n",
        "for food, calorie in recommended_foods:\n",
        "    print(f\"{food} (Calories: {calorie})\")"
      ],
      "metadata": {
        "colab": {
          "base_uri": "https://localhost:8080/"
        },
        "id": "xi-ZCzhGdZ9r",
        "outputId": "c67b54d7-d6b0-40aa-f5f8-d656932b8d86"
      },
      "execution_count": null,
      "outputs": [
        {
          "output_type": "stream",
          "name": "stdout",
          "text": [
            "Recommended Foods:\n",
            "Empal Daging (Calories: 147.0)\n",
            "Tumis Buncis (Calories: 52.0)\n",
            "Belimbing (Calories: 80.0)\n",
            "Setup Kentang Buncis (Calories: 95.0)\n",
            "Sayur Lodeh (Calories: 61.0)\n",
            "Nasi Putih (Calories: 175.0)\n",
            "Ayam Panggang (Calories: 164.3)\n",
            "Pu Yung Hai (Calories: 114.0)\n",
            "Nanas (Calories: 104.0)\n",
            "Soto Betawi (Calories: 135.0)\n"
          ]
        }
      ]
    }
  ]
}